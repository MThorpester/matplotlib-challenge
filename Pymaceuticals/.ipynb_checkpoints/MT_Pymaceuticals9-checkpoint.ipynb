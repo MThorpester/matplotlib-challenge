{
 "cells": [
  {
   "cell_type": "markdown",
   "metadata": {},
   "source": [
    "## Observations and Insights "
   ]
  },
  {
   "cell_type": "markdown",
   "metadata": {},
   "source": [
    "1. At first glance, it would appear that Ramicane and Capomulin are both quite effective for reducing tumor volumes in mice.\n",
    "    - The average tumor volumes for mice treated with those drug regimens shrunk over the course of the study.\n",
    "    - The data samples for both of those drugs appear to be high quality, containing a good number of measurements (over 200) without any outliers.\n",
    "2. However, the study appears to have a serious design flaw, and I believe the results should be thrown out.\n",
    "    - The composition of mice assigned to each drug regimen was not balanced in terms of the weight of the mice. The Ramicane and Capomulin studies consisted of lighter weight mice (approximately 25% lighter than the Infubinol & Ceftamin mice).\n",
    "    - These drugs are less effective for heavier mice. The weight of the mouse and the average tumor size are strongly correlated (correlation coefficient = 0.83). Therefore drugs tested using lighter mice are going to result in lower average tumor volumes. \n",
    "3. In order to properly assess the efficacy of these drugs, the study should be redesigned to either:\n",
    "    - Rerun the study with each Drug group assigned a comparable selection of mice weights, or\n",
    "    - Redo the analysis using Average Percent Change in Tumor Volume rather than Average Tumor Volume as the key metric for assessing efficacy, or\n",
    "    - Figure out some other way to control for mouse weight. "
   ]
  },
  {
   "cell_type": "code",
   "execution_count": 2,
   "metadata": {
    "scrolled": true
   },
   "outputs": [
    {
     "data": {
      "text/html": [
       "<div>\n",
       "<style scoped>\n",
       "    .dataframe tbody tr th:only-of-type {\n",
       "        vertical-align: middle;\n",
       "    }\n",
       "\n",
       "    .dataframe tbody tr th {\n",
       "        vertical-align: top;\n",
       "    }\n",
       "\n",
       "    .dataframe thead th {\n",
       "        text-align: right;\n",
       "    }\n",
       "</style>\n",
       "<table border=\"1\" class=\"dataframe\">\n",
       "  <thead>\n",
       "    <tr style=\"text-align: right;\">\n",
       "      <th></th>\n",
       "      <th>Mouse ID</th>\n",
       "      <th>Drug Regimen</th>\n",
       "      <th>Sex</th>\n",
       "      <th>Age_months</th>\n",
       "      <th>Weight (g)</th>\n",
       "      <th>Timepoint</th>\n",
       "      <th>Tumor Volume (mm3)</th>\n",
       "      <th>Metastatic Sites</th>\n",
       "    </tr>\n",
       "  </thead>\n",
       "  <tbody>\n",
       "    <tr>\n",
       "      <th>0</th>\n",
       "      <td>k403</td>\n",
       "      <td>Ramicane</td>\n",
       "      <td>Male</td>\n",
       "      <td>21</td>\n",
       "      <td>16</td>\n",
       "      <td>0</td>\n",
       "      <td>45.000000</td>\n",
       "      <td>0</td>\n",
       "    </tr>\n",
       "    <tr>\n",
       "      <th>1</th>\n",
       "      <td>k403</td>\n",
       "      <td>Ramicane</td>\n",
       "      <td>Male</td>\n",
       "      <td>21</td>\n",
       "      <td>16</td>\n",
       "      <td>5</td>\n",
       "      <td>38.825898</td>\n",
       "      <td>0</td>\n",
       "    </tr>\n",
       "    <tr>\n",
       "      <th>2</th>\n",
       "      <td>k403</td>\n",
       "      <td>Ramicane</td>\n",
       "      <td>Male</td>\n",
       "      <td>21</td>\n",
       "      <td>16</td>\n",
       "      <td>10</td>\n",
       "      <td>35.014271</td>\n",
       "      <td>1</td>\n",
       "    </tr>\n",
       "    <tr>\n",
       "      <th>3</th>\n",
       "      <td>k403</td>\n",
       "      <td>Ramicane</td>\n",
       "      <td>Male</td>\n",
       "      <td>21</td>\n",
       "      <td>16</td>\n",
       "      <td>15</td>\n",
       "      <td>34.223992</td>\n",
       "      <td>1</td>\n",
       "    </tr>\n",
       "    <tr>\n",
       "      <th>4</th>\n",
       "      <td>k403</td>\n",
       "      <td>Ramicane</td>\n",
       "      <td>Male</td>\n",
       "      <td>21</td>\n",
       "      <td>16</td>\n",
       "      <td>20</td>\n",
       "      <td>32.997729</td>\n",
       "      <td>1</td>\n",
       "    </tr>\n",
       "  </tbody>\n",
       "</table>\n",
       "</div>"
      ],
      "text/plain": [
       "  Mouse ID Drug Regimen   Sex  Age_months  Weight (g)  Timepoint  \\\n",
       "0     k403     Ramicane  Male          21          16          0   \n",
       "1     k403     Ramicane  Male          21          16          5   \n",
       "2     k403     Ramicane  Male          21          16         10   \n",
       "3     k403     Ramicane  Male          21          16         15   \n",
       "4     k403     Ramicane  Male          21          16         20   \n",
       "\n",
       "   Tumor Volume (mm3)  Metastatic Sites  \n",
       "0           45.000000                 0  \n",
       "1           38.825898                 0  \n",
       "2           35.014271                 1  \n",
       "3           34.223992                 1  \n",
       "4           32.997729                 1  "
      ]
     },
     "execution_count": 2,
     "metadata": {},
     "output_type": "execute_result"
    }
   ],
   "source": [
    "# Dependencies and Setup\n",
    "import matplotlib.pyplot as plt\n",
    "import pandas as pd\n",
    "import scipy.stats as st\n",
    "from scipy.stats import linregress\n",
    "import numpy as np\n",
    "\n",
    "# Study data files\n",
    "mouse_metadata_path = \"data/Mouse_metadata.csv\"\n",
    "study_results_path = \"data/Study_results.csv\"\n",
    "\n",
    "# Read the mouse data and the study results\n",
    "mouse_metadata = pd.read_csv(mouse_metadata_path)\n",
    "study_results = pd.read_csv(study_results_path)\n",
    "\n",
    "# Combine the data into a single dataset\n",
    "# Combine the data into a single dataset.  \n",
    "study_df = pd.merge(mouse_metadata, study_results, how=\"left\", on=[\"Mouse ID\"])\n",
    "\n",
    "# Display the data table for preview\n",
    "study_df.head()"
   ]
  },
  {
   "cell_type": "code",
   "execution_count": 3,
   "metadata": {},
   "outputs": [
    {
     "name": "stdout",
     "output_type": "stream",
     "text": [
      "249\n"
     ]
    }
   ],
   "source": [
    "# Checking the number of mice.\n",
    "num_unique_mice = len(study_df['Mouse ID'].unique())\n",
    "print(num_unique_mice)"
   ]
  },
  {
   "cell_type": "code",
   "execution_count": 4,
   "metadata": {
    "scrolled": true
   },
   "outputs": [
    {
     "name": "stdout",
     "output_type": "stream",
     "text": [
      "    Mouse ID Drug Regimen     Sex  Age_months  Weight (g)  Timepoint  \\\n",
      "909     g989     Propriva  Female          21          26          0   \n",
      "911     g989     Propriva  Female          21          26          5   \n",
      "913     g989     Propriva  Female          21          26         10   \n",
      "915     g989     Propriva  Female          21          26         15   \n",
      "917     g989     Propriva  Female          21          26         20   \n",
      "\n",
      "     Tumor Volume (mm3)  Metastatic Sites  \n",
      "909           45.000000                 0  \n",
      "911           47.570392                 0  \n",
      "913           49.880528                 0  \n",
      "915           53.442020                 0  \n",
      "917           54.657650                 1  \n"
     ]
    }
   ],
   "source": [
    "# Look for duplicate Mouse ID/Timepoint records\n",
    "duplicateMouseRows = study_df[study_df.duplicated(['Mouse ID','Timepoint'])]\n",
    "print(duplicateMouseRows)\n",
    "\n",
    "# check out all rows for that Mouse ID\n",
    "filtered_data = study_df[study_df[\"Mouse ID\"]=='g989']\n",
    "\n",
    "# Create a list of index values in order to delete this mouse \n",
    "mouse_index_list = filtered_data.index\n",
    "\n",
    "# Create a clean DataFrame by dropping all rows for the Mouse ID with duplicates\n",
    "study_df.drop(mouse_index_list, inplace=True)"
   ]
  },
  {
   "cell_type": "code",
   "execution_count": 5,
   "metadata": {},
   "outputs": [
    {
     "name": "stdout",
     "output_type": "stream",
     "text": [
      "248\n"
     ]
    }
   ],
   "source": [
    "# Check the number of mice in the clean DataFrame to make sure it is one less than before the drop.\n",
    "num_unique_mice = len(study_df['Mouse ID'].unique())\n",
    "print(num_unique_mice)"
   ]
  },
  {
   "cell_type": "markdown",
   "metadata": {},
   "source": [
    "## Summary Statistics"
   ]
  },
  {
   "cell_type": "code",
   "execution_count": 6,
   "metadata": {},
   "outputs": [],
   "source": [
    "# Use groupby and summary statistical methods to calculate the following properties of each drug regimen: \n",
    "# mean, median, variance, standard deviation, and SEM of the tumor volume. \n",
    "\n",
    "# Group by drug regimen\n",
    "regimen_group = study_df.groupby([\"Drug Regimen\"])\n",
    "\n",
    "# Calculate the mean\n",
    "regimen_mean = regimen_group['Tumor Volume (mm3)'].mean()\n",
    "\n",
    "# Calculate the median\n",
    "regimen_median = regimen_group['Tumor Volume (mm3)'].median()\n",
    "\n",
    "# calculate the variance\n",
    "regimen_variance = regimen_group['Tumor Volume (mm3)'].var()\n",
    "#regimen_variance = np.var(regimen_group['Tumor Volume (mm3)'])\n",
    "\n",
    "# calculate the standard deviation\n",
    "regimen_std = regimen_group['Tumor Volume (mm3)'].std()\n",
    "\n",
    "# Calculate the SEM\n",
    "regimen_sem = regimen_group['Tumor Volume (mm3)'].sem()\n"
   ]
  },
  {
   "cell_type": "code",
   "execution_count": 7,
   "metadata": {
    "scrolled": false
   },
   "outputs": [
    {
     "data": {
      "text/html": [
       "<div>\n",
       "<style scoped>\n",
       "    .dataframe tbody tr th:only-of-type {\n",
       "        vertical-align: middle;\n",
       "    }\n",
       "\n",
       "    .dataframe tbody tr th {\n",
       "        vertical-align: top;\n",
       "    }\n",
       "\n",
       "    .dataframe thead th {\n",
       "        text-align: right;\n",
       "    }\n",
       "</style>\n",
       "<table border=\"1\" class=\"dataframe\">\n",
       "  <thead>\n",
       "    <tr style=\"text-align: right;\">\n",
       "      <th></th>\n",
       "      <th>Mean Tumor Volume</th>\n",
       "      <th>Median Tumor Volume</th>\n",
       "      <th>Tumor Volume Variance</th>\n",
       "      <th>Tumor Volume Std Dev</th>\n",
       "      <th>Tumor Volume SEM</th>\n",
       "    </tr>\n",
       "    <tr>\n",
       "      <th>Drug Regimen</th>\n",
       "      <th></th>\n",
       "      <th></th>\n",
       "      <th></th>\n",
       "      <th></th>\n",
       "      <th></th>\n",
       "    </tr>\n",
       "  </thead>\n",
       "  <tbody>\n",
       "    <tr>\n",
       "      <th>Capomulin</th>\n",
       "      <td>40.675741</td>\n",
       "      <td>41.557809</td>\n",
       "      <td>24.947764</td>\n",
       "      <td>4.994774</td>\n",
       "      <td>0.329346</td>\n",
       "    </tr>\n",
       "    <tr>\n",
       "      <th>Ceftamin</th>\n",
       "      <td>52.591172</td>\n",
       "      <td>51.776157</td>\n",
       "      <td>39.290177</td>\n",
       "      <td>6.268188</td>\n",
       "      <td>0.469821</td>\n",
       "    </tr>\n",
       "    <tr>\n",
       "      <th>Infubinol</th>\n",
       "      <td>52.884795</td>\n",
       "      <td>51.820584</td>\n",
       "      <td>43.128684</td>\n",
       "      <td>6.567243</td>\n",
       "      <td>0.492236</td>\n",
       "    </tr>\n",
       "    <tr>\n",
       "      <th>Ketapril</th>\n",
       "      <td>55.235638</td>\n",
       "      <td>53.698743</td>\n",
       "      <td>68.553577</td>\n",
       "      <td>8.279709</td>\n",
       "      <td>0.603860</td>\n",
       "    </tr>\n",
       "    <tr>\n",
       "      <th>Naftisol</th>\n",
       "      <td>54.331565</td>\n",
       "      <td>52.509285</td>\n",
       "      <td>66.173479</td>\n",
       "      <td>8.134708</td>\n",
       "      <td>0.596466</td>\n",
       "    </tr>\n",
       "    <tr>\n",
       "      <th>Placebo</th>\n",
       "      <td>54.033581</td>\n",
       "      <td>52.288934</td>\n",
       "      <td>61.168083</td>\n",
       "      <td>7.821003</td>\n",
       "      <td>0.581331</td>\n",
       "    </tr>\n",
       "    <tr>\n",
       "      <th>Propriva</th>\n",
       "      <td>52.320930</td>\n",
       "      <td>50.446266</td>\n",
       "      <td>43.852013</td>\n",
       "      <td>6.622085</td>\n",
       "      <td>0.544332</td>\n",
       "    </tr>\n",
       "    <tr>\n",
       "      <th>Ramicane</th>\n",
       "      <td>40.216745</td>\n",
       "      <td>40.673236</td>\n",
       "      <td>23.486704</td>\n",
       "      <td>4.846308</td>\n",
       "      <td>0.320955</td>\n",
       "    </tr>\n",
       "    <tr>\n",
       "      <th>Stelasyn</th>\n",
       "      <td>54.233149</td>\n",
       "      <td>52.431737</td>\n",
       "      <td>59.450562</td>\n",
       "      <td>7.710419</td>\n",
       "      <td>0.573111</td>\n",
       "    </tr>\n",
       "    <tr>\n",
       "      <th>Zoniferol</th>\n",
       "      <td>53.236507</td>\n",
       "      <td>51.818479</td>\n",
       "      <td>48.533355</td>\n",
       "      <td>6.966589</td>\n",
       "      <td>0.516398</td>\n",
       "    </tr>\n",
       "  </tbody>\n",
       "</table>\n",
       "</div>"
      ],
      "text/plain": [
       "              Mean Tumor Volume  Median Tumor Volume  Tumor Volume Variance  \\\n",
       "Drug Regimen                                                                  \n",
       "Capomulin             40.675741            41.557809              24.947764   \n",
       "Ceftamin              52.591172            51.776157              39.290177   \n",
       "Infubinol             52.884795            51.820584              43.128684   \n",
       "Ketapril              55.235638            53.698743              68.553577   \n",
       "Naftisol              54.331565            52.509285              66.173479   \n",
       "Placebo               54.033581            52.288934              61.168083   \n",
       "Propriva              52.320930            50.446266              43.852013   \n",
       "Ramicane              40.216745            40.673236              23.486704   \n",
       "Stelasyn              54.233149            52.431737              59.450562   \n",
       "Zoniferol             53.236507            51.818479              48.533355   \n",
       "\n",
       "              Tumor Volume Std Dev  Tumor Volume SEM  \n",
       "Drug Regimen                                          \n",
       "Capomulin                 4.994774          0.329346  \n",
       "Ceftamin                  6.268188          0.469821  \n",
       "Infubinol                 6.567243          0.492236  \n",
       "Ketapril                  8.279709          0.603860  \n",
       "Naftisol                  8.134708          0.596466  \n",
       "Placebo                   7.821003          0.581331  \n",
       "Propriva                  6.622085          0.544332  \n",
       "Ramicane                  4.846308          0.320955  \n",
       "Stelasyn                  7.710419          0.573111  \n",
       "Zoniferol                 6.966589          0.516398  "
      ]
     },
     "execution_count": 7,
     "metadata": {},
     "output_type": "execute_result"
    }
   ],
   "source": [
    "# Assemble the resulting series into a single summary dataframe.\n",
    "summary_stats1_df = pd.DataFrame({   'Mean Tumor Volume': regimen_mean,\n",
    "                                     'Median Tumor Volume': regimen_median,\n",
    "                                     'Tumor Volume Variance': regimen_variance,\n",
    "                                     'Tumor Volume Std Dev': regimen_std,\n",
    "                                     'Tumor Volume SEM': regimen_sem\n",
    "                                })\n",
    "summary_stats1_df.head(20)"
   ]
  },
  {
   "cell_type": "code",
   "execution_count": 58,
   "metadata": {
    "scrolled": true
   },
   "outputs": [
    {
     "data": {
      "text/html": [
       "<div>\n",
       "<style scoped>\n",
       "    .dataframe tbody tr th:only-of-type {\n",
       "        vertical-align: middle;\n",
       "    }\n",
       "\n",
       "    .dataframe tbody tr th {\n",
       "        vertical-align: top;\n",
       "    }\n",
       "\n",
       "    .dataframe thead tr th {\n",
       "        text-align: left;\n",
       "    }\n",
       "\n",
       "    .dataframe thead tr:last-of-type th {\n",
       "        text-align: right;\n",
       "    }\n",
       "</style>\n",
       "<table border=\"1\" class=\"dataframe\">\n",
       "  <thead>\n",
       "    <tr>\n",
       "      <th></th>\n",
       "      <th colspan=\"5\" halign=\"left\">Tumor Volume (mm3)</th>\n",
       "    </tr>\n",
       "    <tr>\n",
       "      <th></th>\n",
       "      <th>mean</th>\n",
       "      <th>median</th>\n",
       "      <th>var</th>\n",
       "      <th>std</th>\n",
       "      <th>sem</th>\n",
       "    </tr>\n",
       "    <tr>\n",
       "      <th>Drug Regimen</th>\n",
       "      <th></th>\n",
       "      <th></th>\n",
       "      <th></th>\n",
       "      <th></th>\n",
       "      <th></th>\n",
       "    </tr>\n",
       "  </thead>\n",
       "  <tbody>\n",
       "    <tr>\n",
       "      <th>Capomulin</th>\n",
       "      <td>40.675741</td>\n",
       "      <td>41.557809</td>\n",
       "      <td>24.947764</td>\n",
       "      <td>4.994774</td>\n",
       "      <td>0.329346</td>\n",
       "    </tr>\n",
       "    <tr>\n",
       "      <th>Ceftamin</th>\n",
       "      <td>52.591172</td>\n",
       "      <td>51.776157</td>\n",
       "      <td>39.290177</td>\n",
       "      <td>6.268188</td>\n",
       "      <td>0.469821</td>\n",
       "    </tr>\n",
       "    <tr>\n",
       "      <th>Infubinol</th>\n",
       "      <td>52.884795</td>\n",
       "      <td>51.820584</td>\n",
       "      <td>43.128684</td>\n",
       "      <td>6.567243</td>\n",
       "      <td>0.492236</td>\n",
       "    </tr>\n",
       "    <tr>\n",
       "      <th>Ketapril</th>\n",
       "      <td>55.235638</td>\n",
       "      <td>53.698743</td>\n",
       "      <td>68.553577</td>\n",
       "      <td>8.279709</td>\n",
       "      <td>0.603860</td>\n",
       "    </tr>\n",
       "    <tr>\n",
       "      <th>Naftisol</th>\n",
       "      <td>54.331565</td>\n",
       "      <td>52.509285</td>\n",
       "      <td>66.173479</td>\n",
       "      <td>8.134708</td>\n",
       "      <td>0.596466</td>\n",
       "    </tr>\n",
       "    <tr>\n",
       "      <th>Placebo</th>\n",
       "      <td>54.033581</td>\n",
       "      <td>52.288934</td>\n",
       "      <td>61.168083</td>\n",
       "      <td>7.821003</td>\n",
       "      <td>0.581331</td>\n",
       "    </tr>\n",
       "    <tr>\n",
       "      <th>Propriva</th>\n",
       "      <td>52.320930</td>\n",
       "      <td>50.446266</td>\n",
       "      <td>43.852013</td>\n",
       "      <td>6.622085</td>\n",
       "      <td>0.544332</td>\n",
       "    </tr>\n",
       "    <tr>\n",
       "      <th>Ramicane</th>\n",
       "      <td>40.216745</td>\n",
       "      <td>40.673236</td>\n",
       "      <td>23.486704</td>\n",
       "      <td>4.846308</td>\n",
       "      <td>0.320955</td>\n",
       "    </tr>\n",
       "    <tr>\n",
       "      <th>Stelasyn</th>\n",
       "      <td>54.233149</td>\n",
       "      <td>52.431737</td>\n",
       "      <td>59.450562</td>\n",
       "      <td>7.710419</td>\n",
       "      <td>0.573111</td>\n",
       "    </tr>\n",
       "    <tr>\n",
       "      <th>Zoniferol</th>\n",
       "      <td>53.236507</td>\n",
       "      <td>51.818479</td>\n",
       "      <td>48.533355</td>\n",
       "      <td>6.966589</td>\n",
       "      <td>0.516398</td>\n",
       "    </tr>\n",
       "  </tbody>\n",
       "</table>\n",
       "</div>"
      ],
      "text/plain": [
       "             Tumor Volume (mm3)                                          \n",
       "                           mean     median        var       std       sem\n",
       "Drug Regimen                                                             \n",
       "Capomulin             40.675741  41.557809  24.947764  4.994774  0.329346\n",
       "Ceftamin              52.591172  51.776157  39.290177  6.268188  0.469821\n",
       "Infubinol             52.884795  51.820584  43.128684  6.567243  0.492236\n",
       "Ketapril              55.235638  53.698743  68.553577  8.279709  0.603860\n",
       "Naftisol              54.331565  52.509285  66.173479  8.134708  0.596466\n",
       "Placebo               54.033581  52.288934  61.168083  7.821003  0.581331\n",
       "Propriva              52.320930  50.446266  43.852013  6.622085  0.544332\n",
       "Ramicane              40.216745  40.673236  23.486704  4.846308  0.320955\n",
       "Stelasyn              54.233149  52.431737  59.450562  7.710419  0.573111\n",
       "Zoniferol             53.236507  51.818479  48.533355  6.966589  0.516398"
      ]
     },
     "execution_count": 58,
     "metadata": {},
     "output_type": "execute_result"
    }
   ],
   "source": [
    "# Generate a summary statistics table of mean, median, variance, standard deviation, and SEM of the tumor volume for each regimen\n",
    "# Using the aggregation method, produce the same summary statistics in a single line\n",
    "\n",
    "summary_stats2_df = regimen_group.agg(\n",
    "                                    {\n",
    "                                        'Tumor Volume (mm3)': ['mean', 'median', 'var','std','sem']\n",
    "                                    })\n",
    "summary_stats2_df.head(20)"
   ]
  },
  {
   "cell_type": "markdown",
   "metadata": {},
   "source": [
    "## Bar and Pie Charts"
   ]
  },
  {
   "cell_type": "code",
   "execution_count": 59,
   "metadata": {
    "scrolled": true
   },
   "outputs": [
    {
     "data": {
      "image/png": "[encoded data removed]",
      "text/plain": [
       "<Figure size 864x288 with 1 Axes>"
      ]
     },
     "metadata": {
      "needs_background": "light"
     },
     "output_type": "display_data"
    }
   ],
   "source": [
    "# Generate a bar plot showing the total number of measurements taken on each drug regimen using PANDAS.\n",
    "\n",
    "# Create the dataframe by doing a count of measurements on the Groupby object created in the previous section \n",
    "regimen_num_measurements = regimen_group['Timepoint'].count()\n",
    "\n",
    "# Plot it, set a title & display the chart\n",
    "regimen_num_measurements.plot(kind=\"bar\", figsize=(12,4), rot=45)\n",
    "plt.ylabel(\"Number of Measurements\")\n",
    "plt.title(\"Number of Measurements per Drug Regimen\")\n",
    "plt.show()\n"
   ]
  },
  {
   "cell_type": "code",
   "execution_count": 60,
   "metadata": {
    "scrolled": true
   },
   "outputs": [
    {
     "data": {
      "image/png": "[encoded data removed]",
      "text/plain": [
       "<Figure size 864x288 with 1 Axes>"
      ]
     },
     "metadata": {
      "needs_background": "light"
     },
     "output_type": "display_data"
    }
   ],
   "source": [
    "# Generate a bar plot showing the total number of measurements taken on each drug regimen using PYPLOT.\n",
    "# Set up the x and y axis values\n",
    "x_axis = np.arange(len(regimen_group))\n",
    "y_axis = regimen_num_measurements.values.tolist()\n",
    "plt.figure(figsize=(12,4))\n",
    "plt.bar(x_axis, y_axis, color ='xkcd:sea blue', align='center', width=0.5)\n",
    "\n",
    "# Tell pyplot where we would like to place each of our x axis headers\n",
    "drug_list = list(regimen_num_measurements.index)\n",
    "plt.xticks(x_axis, drug_list, rotation=45)\n",
    "\n",
    "# Give our chart some labels and a tile\n",
    "plt.title(\"Number of Measurements per Drug Regimen\")\n",
    "plt.xlabel(\"Drug Regimen\")\n",
    "plt.ylabel(\"Number of Measurements\")\n",
    "plt.show()"
   ]
  },
  {
   "cell_type": "code",
   "execution_count": 63,
   "metadata": {},
   "outputs": [
    {
     "data": {
      "image/png": "[encoded data removed]",
      "text/plain": [
       "<Figure size 432x288 with 1 Axes>"
      ]
     },
     "metadata": {},
     "output_type": "display_data"
    }
   ],
   "source": [
    "# Generate a pie plot showing the distribution of female versus male mice using PANDAS\n",
    "# Group by gender\n",
    "gender_group = study_df.groupby([\"Sex\"])\n",
    "\n",
    "# Create a dataframe by doing a count of measurements on this Groupby object \n",
    "gender_df = gender_group['Timepoint'].count()\n",
    "\n",
    "# set up plotting variables\n",
    "colors = ['orange','lightskyblue']\n",
    "explode = [0.1,0]\n",
    "\n",
    "# Plot it, set a title & display the chart\n",
    "gender_pie = gender_df.plot(kind=\"pie\", colors=colors, explode=explode,\n",
    "        autopct=\"%1.1f%%\", shadow=True, startangle=140)\n",
    "plt.title(\"Breakdown of Mice in Study by Gender\")\n",
    "# Hide the y label\n",
    "gender_pie.set_ylabel('')\n",
    "plt.show()\n"
   ]
  },
  {
   "cell_type": "code",
   "execution_count": 17,
   "metadata": {
    "scrolled": true
   },
   "outputs": [
    {
     "data": {
      "image/png": "[encoded data removed]",
      "text/plain": [
       "<Figure size 432x288 with 1 Axes>"
      ]
     },
     "metadata": {},
     "output_type": "display_data"
    }
   ],
   "source": [
    "# Generate a pie plot showing the distribution of female versus male mice using PYPLOT\n",
    "# Group by gender\n",
    "gender_group = study_df.groupby([\"Sex\"])\n",
    "\n",
    "# Create a dataframe by doing a count of measurements on this Groupby object \n",
    "gender_df = gender_group['Timepoint'].count()\n",
    "\n",
    "# Set up charting variables\n",
    "genders = gender_df.index\n",
    "measurements = gender_group['Timepoint'].count()\n",
    "colors = ['orange','lightskyblue']\n",
    "explode = [0.1,0]\n",
    "\n",
    "# Tell matplotlib to create a pie chart based upon the above data\n",
    "plt.pie(measurements, explode=explode, labels=genders, colors=colors,\n",
    "        autopct=\"%1.1f%%\", shadow=True, startangle=140)\n",
    "\n",
    "plt.title(\"Breakdown of Mice in Study by Gender\")\n",
    "# Create axes which are equal so we have a perfect circle\n",
    "plt.axis(\"equal\")\n",
    "plt.show()\n"
   ]
  },
  {
   "cell_type": "markdown",
   "metadata": {},
   "source": [
    "## Quartiles, Outliers and Boxplots"
   ]
  },
  {
   "cell_type": "code",
   "execution_count": 64,
   "metadata": {},
   "outputs": [],
   "source": [
    "# create a table containing the max timepoint for each mouse (this is ugly method chaining but it works)\n",
    "max_timepoints_df = pd.DataFrame(study_df.groupby('Mouse ID')['Timepoint'].max().sort_values()).reset_index().rename(columns={'Timepoint': 'max_timepoint'})\n",
    "\n",
    "# merge the max timepoint with our original df\n",
    "augmented_df = pd.merge(study_df, max_timepoints_df, on = 'Mouse ID')\n",
    "\n",
    "# create subset df with only one timepoint record per mouse - the last one\n",
    "drug_df = augmented_df.loc[augmented_df['Timepoint'] == augmented_df['max_timepoint']]\n"
   ]
  },
  {
   "cell_type": "code",
   "execution_count": 65,
   "metadata": {
    "scrolled": false
   },
   "outputs": [
    {
     "name": "stdout",
     "output_type": "stream",
     "text": [
      "Lower quartile for Capomulin is 32.37735684\n",
      "Upper quartile for Capomulin is 40.1592203\n",
      "IQR for Capomulin is 7.781863460000004\n",
      "Upper bound for Capomulin is 51.83201549\n",
      "Lower bound for Capomulin is 20.70456164999999\n",
      "Number of outliers for Capomulin is 0\n",
      "\n"
     ]
    }
   ],
   "source": [
    "# Calculate the quartiles and IQR for each drug regimen and determine whether there are any outliers \n",
    "\n",
    "# Capomulin\n",
    "capomulin_extract = drug_df.loc[drug_df['Drug Regimen']=='Capomulin']\n",
    "capomulin_extract.reset_index()\n",
    "capomulin_volumes = capomulin_extract['Tumor Volume (mm3)']\n",
    "capomulin_volumes.reset_index()\n",
    "\n",
    "quartiles = capomulin_volumes.quantile([.25,.5,.75])\n",
    "lower_q = quartiles[0.25]\n",
    "upper_q = quartiles[0.75]\n",
    "iqr = upper_q - lower_q\n",
    "lower_bound = lower_q - (1.5 * iqr)\n",
    "upper_bound = upper_q + (1.5 * iqr)\n",
    "outlier_count = (capomulin_volumes.loc[(capomulin_extract['Tumor Volume (mm3)'] > upper_bound) |\n",
    "                                    (capomulin_extract['Tumor Volume (mm3)'] < lower_bound)]).count()\n",
    "\n",
    "print(f'Lower quartile for Capomulin is {lower_q}')\n",
    "print(f'Upper quartile for Capomulin is {upper_q}')\n",
    "print(f'IQR for Capomulin is {iqr}')\n",
    "print(f'Upper bound for Capomulin is {upper_bound}')\n",
    "print(f'Lower bound for Capomulin is {lower_bound}')  \n",
    "print(f'Number of outliers for Capomulin is {outlier_count}')\n",
    "print()"
   ]
  },
  {
   "cell_type": "code",
   "execution_count": 66,
   "metadata": {
    "scrolled": false
   },
   "outputs": [
    {
     "name": "stdout",
     "output_type": "stream",
     "text": [
      "Lower quartile for Ramicane is 31.56046955\n",
      "Upper quartile for Ramicane is 40.65900627\n",
      "IQR for Ramicane is 9.098536719999998\n",
      "Upper bound for Ramicane is 54.30681135\n",
      "Lower bound for Ramicane is 17.912664470000003\n",
      "Number of outliers for Ramicane is 0\n",
      "\n"
     ]
    }
   ],
   "source": [
    "# Calculate the quartiles and IQR for each drug regimen and determine whether there are any outliers \n",
    "\n",
    "# Ramicane\n",
    "ramicane_extract = drug_df.loc[drug_df['Drug Regimen']=='Ramicane']\n",
    "ramicane_extract.reset_index()\n",
    "ramicane_volumes = ramicane_extract['Tumor Volume (mm3)']\n",
    "ramicane_volumes.reset_index()\n",
    "\n",
    "quartiles = ramicane_volumes.quantile([.25,.5,.75])\n",
    "lower_q = quartiles[0.25]\n",
    "upper_q = quartiles[0.75]\n",
    "iqr = upper_q - lower_q\n",
    "lower_bound = lower_q - (1.5 * iqr)\n",
    "upper_bound = upper_q + (1.5 * iqr)\n",
    "outlier_count = (ramicane_volumes.loc[(ramicane_extract['Tumor Volume (mm3)'] > upper_bound) |\n",
    "                                    (ramicane_extract['Tumor Volume (mm3)'] < lower_bound)]).count()\n",
    "\n",
    "print(f'Lower quartile for Ramicane is {lower_q}')\n",
    "print(f'Upper quartile for Ramicane is {upper_q}')\n",
    "print(f'IQR for Ramicane is {iqr}')\n",
    "print(f'Upper bound for Ramicane is {upper_bound}')\n",
    "print(f'Lower bound for Ramicane is {lower_bound}')  \n",
    "print(f'Number of outliers for Ramicane is {outlier_count}')\n",
    "print()"
   ]
  },
  {
   "cell_type": "code",
   "execution_count": 67,
   "metadata": {
    "scrolled": false
   },
   "outputs": [
    {
     "name": "stdout",
     "output_type": "stream",
     "text": [
      "Lower quartile for Infubinol is 54.04860769\n",
      "Upper quartile for Infubinol is 65.52574285\n",
      "IQR for Infubinol is 11.477135160000003\n",
      "Upper bound for Infubinol is 82.74144559000001\n",
      "Lower bound for Infubinol is 36.83290494999999\n",
      "Number of outliers for Infubinol is 1\n",
      "\n"
     ]
    }
   ],
   "source": [
    "# Calculate the quartiles and IQR for each drug regimen and determine whether there are any outliers \n",
    "\n",
    "# Infubinol\n",
    "infubinol_extract = drug_df.loc[drug_df['Drug Regimen']=='Infubinol']\n",
    "infubinol_extract.reset_index()\n",
    "infubinol_volumes = infubinol_extract['Tumor Volume (mm3)']\n",
    "infubinol_volumes.reset_index()\n",
    "\n",
    "quartiles = infubinol_volumes.quantile([.25,.5,.75])\n",
    "lower_q = quartiles[0.25]\n",
    "upper_q = quartiles[0.75]\n",
    "iqr = upper_q - lower_q\n",
    "lower_bound = lower_q - (1.5 * iqr)\n",
    "upper_bound = upper_q + (1.5 * iqr)\n",
    "outlier_count = (infubinol_volumes.loc[(infubinol_extract['Tumor Volume (mm3)'] > upper_bound) |\n",
    "                                    (infubinol_extract['Tumor Volume (mm3)'] < lower_bound)]).count()\n",
    "\n",
    "print(f'Lower quartile for Infubinol is {lower_q}')\n",
    "print(f'Upper quartile for Infubinol is {upper_q}')\n",
    "print(f'IQR for Infubinol is {iqr}')\n",
    "print(f'Upper bound for Infubinol is {upper_bound}')\n",
    "print(f'Lower bound for Infubinol is {lower_bound}')  \n",
    "print(f'Number of outliers for Infubinol is {outlier_count}')\n",
    "print()"
   ]
  },
  {
   "cell_type": "code",
   "execution_count": 68,
   "metadata": {
    "scrolled": false
   },
   "outputs": [
    {
     "name": "stdout",
     "output_type": "stream",
     "text": [
      "Lower quartile for Ceftamin is 48.72207785\n",
      "Upper quartile for Ceftamin is 64.29983003\n",
      "IQR for Ceftamin is 15.577752179999997\n",
      "Upper bound for Ceftamin is 87.66645829999999\n",
      "Lower bound for Ceftamin is 25.355449580000002\n",
      "Number of outliers for Ceftamin is 0\n",
      "\n"
     ]
    }
   ],
   "source": [
    "# Calculate the quartiles and IQR for each drug regimen and determine whether there are any outliers \n",
    "\n",
    "# Ceftamin\n",
    "ceftamin_extract = drug_df.loc[drug_df['Drug Regimen']=='Ceftamin']\n",
    "ceftamin_extract.reset_index()\n",
    "ceftamin_volumes = ceftamin_extract['Tumor Volume (mm3)']\n",
    "ceftamin_volumes.reset_index()\n",
    "\n",
    "quartiles = ceftamin_volumes.quantile([.25,.5,.75])\n",
    "lower_q = quartiles[0.25]\n",
    "upper_q = quartiles[0.75]\n",
    "iqr = upper_q - lower_q\n",
    "lower_bound = lower_q - (1.5 * iqr)\n",
    "upper_bound = upper_q + (1.5 * iqr)\n",
    "outlier_count = (ceftamin_volumes.loc[(ceftamin_extract['Tumor Volume (mm3)'] > upper_bound) |\n",
    "                                    (ceftamin_extract['Tumor Volume (mm3)'] < lower_bound)]).count()\n",
    "print(f'Lower quartile for Ceftamin is {lower_q}')\n",
    "print(f'Upper quartile for Ceftamin is {upper_q}')\n",
    "print(f'IQR for Ceftamin is {iqr}')\n",
    "print(f'Upper bound for Ceftamin is {upper_bound}')\n",
    "print(f'Lower bound for Ceftamin is {lower_bound}')  \n",
    "print(f'Number of outliers for Ceftamin is {outlier_count}')\n",
    "print()"
   ]
  },
  {
   "cell_type": "code",
   "execution_count": 69,
   "metadata": {
    "scrolled": false
   },
   "outputs": [
    {
     "data": {
      "image/png": "[encoded data removed]",
      "text/plain": [
       "<Figure size 432x288 with 1 Axes>"
      ]
     },
     "metadata": {
      "needs_background": "light"
     },
     "output_type": "display_data"
    }
   ],
   "source": [
    "# generate a box plot of the final tumor volume of each mouse across all four drug regimens\n",
    "# highlight any outliers so they stand out\n",
    "flierprops = dict(marker='o', markerfacecolor='r',markersize=8, markeredgecolor='black')\n",
    "plt.boxplot ([capomulin_volumes, ramicane_volumes, infubinol_volumes, ceftamin_volumes],flierprops=flierprops)\n",
    "plt.title('Final Tumor Volume by Drug')\n",
    "plt.ylabel('Final Tumor Volume (mm3)')\n",
    "plt.xticks([1,2,3,4], ['Capomulin','Ramicane','Infubinol','Ceftamin'])\n",
    "plt.show()"
   ]
  },
  {
   "cell_type": "markdown",
   "metadata": {},
   "source": [
    "## Line and Scatter Plots"
   ]
  },
  {
   "cell_type": "code",
   "execution_count": 24,
   "metadata": {},
   "outputs": [
    {
     "data": {
      "image/png": "[encoded data removed]",
      "text/plain": [
       "<Figure size 432x288 with 1 Axes>"
      ]
     },
     "metadata": {
      "needs_background": "light"
     },
     "output_type": "display_data"
    }
   ],
   "source": [
    "# Generate a line plot of tumor volume vs. time point for a mouse treated with Capomulin\n",
    "# Extract data for Mouse m601\n",
    "m601 = study_df.loc[study_df['Mouse ID'] == 'm601']\n",
    "\n",
    "# plot this data on a line chart (time values on the x-axis and tumor volumes on the y-axis)\n",
    "plt.plot(m601['Timepoint'],m601['Tumor Volume (mm3)'], marker='o')\n",
    "\n",
    "# add labels and title\n",
    "plt.xlabel('Number of Days')\n",
    "plt.ylabel('Tumor Volume (mm3)')\n",
    "plt.title('Progression of Capomulin Treatment: Mouse m601')\n",
    "plt.show()\n"
   ]
  },
  {
   "cell_type": "code",
   "execution_count": 25,
   "metadata": {
    "scrolled": true
   },
   "outputs": [
    {
     "data": {
      "text/html": [
       "<div>\n",
       "<style scoped>\n",
       "    .dataframe tbody tr th:only-of-type {\n",
       "        vertical-align: middle;\n",
       "    }\n",
       "\n",
       "    .dataframe tbody tr th {\n",
       "        vertical-align: top;\n",
       "    }\n",
       "\n",
       "    .dataframe thead th {\n",
       "        text-align: right;\n",
       "    }\n",
       "</style>\n",
       "<table border=\"1\" class=\"dataframe\">\n",
       "  <thead>\n",
       "    <tr style=\"text-align: right;\">\n",
       "      <th></th>\n",
       "      <th>Weight (g)</th>\n",
       "      <th>avg_tumor_volume</th>\n",
       "    </tr>\n",
       "  </thead>\n",
       "  <tbody>\n",
       "    <tr>\n",
       "      <th>0</th>\n",
       "      <td>17</td>\n",
       "      <td>34.559143</td>\n",
       "    </tr>\n",
       "    <tr>\n",
       "      <th>10</th>\n",
       "      <td>15</td>\n",
       "      <td>36.182040</td>\n",
       "    </tr>\n",
       "    <tr>\n",
       "      <th>20</th>\n",
       "      <td>17</td>\n",
       "      <td>34.847470</td>\n",
       "    </tr>\n",
       "    <tr>\n",
       "      <th>30</th>\n",
       "      <td>17</td>\n",
       "      <td>36.505973</td>\n",
       "    </tr>\n",
       "    <tr>\n",
       "      <th>35</th>\n",
       "      <td>17</td>\n",
       "      <td>39.887495</td>\n",
       "    </tr>\n",
       "    <tr>\n",
       "      <th>45</th>\n",
       "      <td>17</td>\n",
       "      <td>38.506829</td>\n",
       "    </tr>\n",
       "    <tr>\n",
       "      <th>55</th>\n",
       "      <td>17</td>\n",
       "      <td>36.509212</td>\n",
       "    </tr>\n",
       "    <tr>\n",
       "      <th>65</th>\n",
       "      <td>19</td>\n",
       "      <td>39.049816</td>\n",
       "    </tr>\n",
       "    <tr>\n",
       "      <th>75</th>\n",
       "      <td>17</td>\n",
       "      <td>39.328725</td>\n",
       "    </tr>\n",
       "    <tr>\n",
       "      <th>85</th>\n",
       "      <td>20</td>\n",
       "      <td>39.141053</td>\n",
       "    </tr>\n",
       "    <tr>\n",
       "      <th>95</th>\n",
       "      <td>21</td>\n",
       "      <td>41.352452</td>\n",
       "    </tr>\n",
       "    <tr>\n",
       "      <th>105</th>\n",
       "      <td>19</td>\n",
       "      <td>41.990097</td>\n",
       "    </tr>\n",
       "    <tr>\n",
       "      <th>115</th>\n",
       "      <td>19</td>\n",
       "      <td>42.507261</td>\n",
       "    </tr>\n",
       "    <tr>\n",
       "      <th>125</th>\n",
       "      <td>21</td>\n",
       "      <td>40.083699</td>\n",
       "    </tr>\n",
       "    <tr>\n",
       "      <th>135</th>\n",
       "      <td>22</td>\n",
       "      <td>41.963636</td>\n",
       "    </tr>\n",
       "    <tr>\n",
       "      <th>145</th>\n",
       "      <td>21</td>\n",
       "      <td>43.216925</td>\n",
       "    </tr>\n",
       "    <tr>\n",
       "      <th>153</th>\n",
       "      <td>23</td>\n",
       "      <td>44.465236</td>\n",
       "    </tr>\n",
       "    <tr>\n",
       "      <th>163</th>\n",
       "      <td>23</td>\n",
       "      <td>41.384825</td>\n",
       "    </tr>\n",
       "    <tr>\n",
       "      <th>166</th>\n",
       "      <td>21</td>\n",
       "      <td>41.581595</td>\n",
       "    </tr>\n",
       "    <tr>\n",
       "      <th>176</th>\n",
       "      <td>22</td>\n",
       "      <td>44.613344</td>\n",
       "    </tr>\n",
       "  </tbody>\n",
       "</table>\n",
       "</div>"
      ],
      "text/plain": [
       "     Weight (g)  avg_tumor_volume\n",
       "0            17         34.559143\n",
       "10           15         36.182040\n",
       "20           17         34.847470\n",
       "30           17         36.505973\n",
       "35           17         39.887495\n",
       "45           17         38.506829\n",
       "55           17         36.509212\n",
       "65           19         39.049816\n",
       "75           17         39.328725\n",
       "85           20         39.141053\n",
       "95           21         41.352452\n",
       "105          19         41.990097\n",
       "115          19         42.507261\n",
       "125          21         40.083699\n",
       "135          22         41.963636\n",
       "145          21         43.216925\n",
       "153          23         44.465236\n",
       "163          23         41.384825\n",
       "166          21         41.581595\n",
       "176          22         44.613344"
      ]
     },
     "execution_count": 25,
     "metadata": {},
     "output_type": "execute_result"
    }
   ],
   "source": [
    "# Generate a scatter plot of average tumor volume vs. mouse weight for the Capomulin regimen\n",
    "# Extract the Capomulin data, calculate the average tumor volume for each mouse and add it to the table\n",
    "# capomulin_extract.head()\n",
    "capomulin_extract = study_df.loc[study_df['Drug Regimen']=='Capomulin']\n",
    "capomulin_df = pd.DataFrame(capomulin_extract.groupby('Mouse ID')['Tumor Volume (mm3)'].mean().sort_values()).reset_index().rename(columns={'Tumor Volume (mm3)': 'avg_tumor_volume'})\n",
    "augmented_capomulin_df = pd.merge(capomulin_extract, capomulin_df, on = 'Mouse ID')\n",
    "\n",
    "# Get rid of all but one row for each mouse in the Capomulin study\n",
    "avg_capomulin_volumes = augmented_capomulin_df[['Weight (g)','avg_tumor_volume']].drop_duplicates() \n",
    "avg_capomulin_volumes.head(20)"
   ]
  },
  {
   "cell_type": "code",
   "execution_count": 26,
   "metadata": {
    "scrolled": true
   },
   "outputs": [
    {
     "data": {
      "image/png": "[encoded data removed]",
      "text/plain": [
       "<Figure size 432x288 with 1 Axes>"
      ]
     },
     "metadata": {
      "needs_background": "light"
     },
     "output_type": "display_data"
    }
   ],
   "source": [
    "# Generate the scatter plot using average tumor volume and mouse weight from the transformed Capomulin data\n",
    "plt.scatter(augmented_capomulin_df['Weight (g)'],augmented_capomulin_df['avg_tumor_volume'])\n",
    "\n",
    "# add labels and title\n",
    "plt.xlabel('Mouse Weight (g)')\n",
    "plt.ylabel('Average Tumor Volume (mm3)')\n",
    "plt.title('Average Tumor Volume by Mouse Weight')\n",
    "plt.show()\n",
    "\n"
   ]
  },
  {
   "cell_type": "markdown",
   "metadata": {},
   "source": [
    "## Correlation and Regression"
   ]
  },
  {
   "cell_type": "code",
   "execution_count": 27,
   "metadata": {
    "scrolled": false
   },
   "outputs": [
    {
     "name": "stdout",
     "output_type": "stream",
     "text": [
      "The correlation coefficient between mouse weight and tumor volume is 0.83.\n"
     ]
    },
    {
     "data": {
      "image/png": "[encoded data removed]",
      "text/plain": [
       "<Figure size 432x288 with 1 Axes>"
      ]
     },
     "metadata": {
      "needs_background": "light"
     },
     "output_type": "display_data"
    },
    {
     "name": "stdout",
     "output_type": "stream",
     "text": [
      "The r-squared is: 0.6962164535925288\n"
     ]
    }
   ],
   "source": [
    "# Calculate the correlation coefficient and linear regression model \n",
    "# for mouse weight and average tumor volume for the Capomulin regimen\n",
    "correlation = st.pearsonr(augmented_capomulin_df['Weight (g)'],augmented_capomulin_df['avg_tumor_volume'])\n",
    "print(f'The correlation coefficient between mouse weight and tumor volume is {round(correlation[0],2)}.')\n",
    "\n",
    "# Calculate the linear regression model for these two variables\n",
    "x_values = augmented_capomulin_df['Weight (g)']\n",
    "y_values = augmented_capomulin_df['avg_tumor_volume']\n",
    "(slope, intercept, rvalue, pvalue, stderr) = linregress(x_values, y_values)\n",
    "regress_values = x_values * slope + intercept\n",
    "line_eq = \"y = \" + str(round(slope,2)) + \"x + \" + str(round(intercept,2))\n",
    "\n",
    "# Plot the data on the scatter plot\n",
    "plt.scatter(x_values,y_values)\n",
    "plt.plot(x_values,regress_values,\"r-\")\n",
    "# Annotate the regression line\n",
    "plt.annotate(line_eq,(20,37),fontsize=15,color=\"red\")\n",
    "plt.xlabel('Mouse Weight (g)')\n",
    "plt.ylabel('Average Tumor Volume (mm3)')\n",
    "plt.title('Average Tumor Volume by Mouse Weight')\n",
    "plt.show()\n",
    "print(f\"The r-squared is: {rvalue**2}\")\n",
    "plt.show()\n",
    "\n"
   ]
  },
  {
   "cell_type": "code",
   "execution_count": null,
   "metadata": {},
   "outputs": [],
   "source": []
  }
 ],
 "metadata": {
  "anaconda-cloud": {},
  "kernelspec": {
   "display_name": "Python 3",
   "language": "python",
   "name": "python3"
  },
  "language_info": {
   "codemirror_mode": {
    "name": "ipython",
    "version": 3
   },
   "file_extension": ".py",
   "mimetype": "text/x-python",
   "name": "python",
   "nbconvert_exporter": "python",
   "pygments_lexer": "ipython3",
   "version": "3.8.5"
  }
 },
 "nbformat": 4,
 "nbformat_minor": 4
}
